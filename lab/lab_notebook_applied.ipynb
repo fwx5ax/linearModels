{
  "cells": [
    {
      "cell_type": "markdown",
      "metadata": {
        "vscode": {
          "languageId": "bat"
        },
        "id": "wWm6GnQPhmy_"
      },
      "source": [
        "# Hedonic Pricing\n",
        "\n",
        "We often try to predict the price of an asset from its observable characteristics. This is generally called **hedonic pricing**: How do the unit's characteristics determine its market price?\n",
        "\n",
        "In the lab folder, there are three options: housing prices in pierce_county_house_sales.csv, car prices in cars_hw.csv, and airbnb rental prices in airbnb_hw.csv. If you know of another suitable dataset, please feel free to use that one.\n",
        "\n",
        "1. Clean the data and perform some EDA and visualization to get to know the data set.\n",
        "2. Transform your variables --- particularly categorical ones --- for use in your regression analysis.\n",
        "3. Implement an ~80/~20 train-test split. Put the test data aside.\n",
        "4. Build some simple linear models that include no transformations or interactions. Fit them, and determine their RMSE and $R^2$ on the both the training and test sets. Which of your models does the best?\n",
        "5. Make partial correlation plots for each of the numeric variables in your model. Do you notice any significant non-linearities?\n",
        "6. Include transformations and interactions of your variables, and build a more complex model that reflects your ideas about how the features of the asset determine its value. Determine its RMSE and $R^2$ on the training and test sets. How does the more complex model your build compare to the simpler ones?\n",
        "7. Summarize your results from 1 to 6. Have you learned anything about overfitting and underfitting, or model selection?\n",
        "8. If you have time, use the sklearn.linear_model.Lasso to regularize your model and select the most predictive features. Which does it select? What are the RMSE and $R^2$? We'll cover the Lasso later in detail in class."
      ]
    },
    {
      "cell_type": "code",
      "source": [
        "import pandas as pd\n",
        "import numpy as np\n",
        "import matplotlib.pyplot as plt\n",
        "import seaborn as sns"
      ],
      "metadata": {
        "id": "rhPanrbMhxN8"
      },
      "execution_count": null,
      "outputs": []
    },
    {
      "cell_type": "code",
      "source": [
        "df = pd.read_csv('cars_hw.csv')"
      ],
      "metadata": {
        "id": "eRb1Fi9Yh17K"
      },
      "execution_count": null,
      "outputs": []
    },
    {
      "cell_type": "code",
      "source": [
        "# Display basic information about the dataset\n",
        "print(df.info())\n",
        "print(df.describe())\n",
        "\n",
        "\n",
        "# Check for missing values\n",
        "print(df.isnull().sum())\n",
        "\n",
        "# Handle missing values (example: fill with mean)\n",
        "# For demonstration, let's fill missing 'price' with the mean price\n",
        "if 'price' in df.columns and df['price'].isnull().any():\n",
        "  df['price'].fillna(df['price'].mean(), inplace=True)\n",
        "\n",
        "\n",
        "# Visualizations (examples)\n",
        "plt.figure(figsize=(10, 6))\n",
        "sns.histplot(df['price'], kde=True)\n",
        "plt.title('Distribution of Car Prices')\n",
        "plt.show()\n",
        "\n",
        "\n",
        "plt.figure(figsize=(10,6))\n",
        "sns.boxplot(x='year', y='price', data=df)\n",
        "plt.title('Price vs. Year')\n",
        "plt.show()\n",
        "\n",
        "\n",
        "# Further EDA and visualizations (e.g., scatter plots, pair plots, etc.) to understand the relationships between features\n",
        "\n",
        "\n",
        "# 2. Variable Transformation (example: one-hot encoding for categorical variables)\n",
        "\n",
        "\n",
        "# Example: One-hot encoding for 'model' if it's a categorical feature.\n",
        "#  Replace with your actual categorical variables as needed\n",
        "if 'model' in df.columns:\n",
        "  df = pd.get_dummies(df, columns=['model'], drop_first=True)\n",
        "\n",
        "\n",
        "# 3. Train-test split\n",
        "from sklearn.model_selection import train_test_split\n",
        "\n",
        "# ... [Your code to prepare features (X) and target variable (y)]\n",
        "# Example:\n",
        "X = df.drop('price', axis=1)  # Replace 'price' with your target variable name\n",
        "y = df['price']\n",
        "\n",
        "\n",
        "X_train, X_test, y_train, y_test = train_test_split(X, y, test_size=0.2, random_state=42)\n",
        "\n",
        "\n",
        "# ... [Rest of your code (steps 4-8)]\n"
      ],
      "metadata": {
        "id": "QRY_R1s0hp67"
      },
      "execution_count": null,
      "outputs": []
    }
  ],
  "metadata": {
    "kernelspec": {
      "display_name": "base",
      "language": "python",
      "name": "python3"
    },
    "language_info": {
      "codemirror_mode": {
        "name": "ipython",
        "version": 3
      },
      "file_extension": ".py",
      "mimetype": "text/x-python",
      "name": "python",
      "nbconvert_exporter": "python",
      "pygments_lexer": "ipython3",
      "version": "3.12.2"
    },
    "colab": {
      "provenance": []
    }
  },
  "nbformat": 4,
  "nbformat_minor": 0
}